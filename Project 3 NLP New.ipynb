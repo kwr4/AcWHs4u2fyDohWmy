{
 "cells": [
  {
   "cell_type": "code",
   "execution_count": 5,
   "id": "19f890ae",
   "metadata": {},
   "outputs": [
    {
     "name": "stderr",
     "output_type": "stream",
     "text": [
      "[nltk_data] Downloading package stopwords to\n",
      "[nltk_data]     C:\\Users\\krodr\\AppData\\Roaming\\nltk_data...\n",
      "[nltk_data]   Package stopwords is already up-to-date!\n",
      "[nltk_data] Downloading package punkt to\n",
      "[nltk_data]     C:\\Users\\krodr\\AppData\\Roaming\\nltk_data...\n",
      "[nltk_data]   Package punkt is already up-to-date!\n",
      "[nltk_data] Downloading package wordnet to\n",
      "[nltk_data]     C:\\Users\\krodr\\AppData\\Roaming\\nltk_data...\n",
      "[nltk_data]   Package wordnet is already up-to-date!\n"
     ]
    },
    {
     "data": {
      "text/plain": [
       "True"
      ]
     },
     "execution_count": 5,
     "metadata": {},
     "output_type": "execute_result"
    }
   ],
   "source": [
    "import nltk\n",
    "import gensim\n",
    "import matplotlib\n",
    "from multiprocessing import cpu_count\n",
    "from sentence_transformers import SentenceTransformer\n",
    "from sklearn.metrics.pairwise import cosine_similarity\n",
    "import pandas as pd\n",
    "import numpy as np\n",
    "import pandas as pd\n",
    "import seaborn as sns\n",
    "from collections import Counter\n",
    "import matplotlib.pyplot as plt\n",
    "from nltk.tokenize import word_tokenize\n",
    "import nltk \n",
    "import re\n",
    "from nltk.stem import WordNetLemmatizer\n",
    "from nltk.tokenize.treebank import TreebankWordDetokenizer\n",
    "nltk.download('stopwords')\n",
    "nltk.download('punkt')\n",
    "nltk.download('wordnet')"
   ]
  },
  {
   "cell_type": "code",
   "execution_count": 6,
   "id": "4ef1f469",
   "metadata": {},
   "outputs": [
    {
     "data": {
      "text/html": [
       "<div>\n",
       "<style scoped>\n",
       "    .dataframe tbody tr th:only-of-type {\n",
       "        vertical-align: middle;\n",
       "    }\n",
       "\n",
       "    .dataframe tbody tr th {\n",
       "        vertical-align: top;\n",
       "    }\n",
       "\n",
       "    .dataframe thead th {\n",
       "        text-align: right;\n",
       "    }\n",
       "</style>\n",
       "<table border=\"1\" class=\"dataframe\">\n",
       "  <thead>\n",
       "    <tr style=\"text-align: right;\">\n",
       "      <th></th>\n",
       "      <th>id</th>\n",
       "      <th>job_title</th>\n",
       "      <th>location</th>\n",
       "      <th>connection</th>\n",
       "      <th>fit</th>\n",
       "    </tr>\n",
       "  </thead>\n",
       "  <tbody>\n",
       "    <tr>\n",
       "      <th>0</th>\n",
       "      <td>1.0</td>\n",
       "      <td>2019 C.T. Bauer College of Business Graduate (...</td>\n",
       "      <td>Houston, Texas</td>\n",
       "      <td>85.0</td>\n",
       "      <td>NaN</td>\n",
       "    </tr>\n",
       "    <tr>\n",
       "      <th>1</th>\n",
       "      <td>2.0</td>\n",
       "      <td>Native English Teacher at EPIK (English Progra...</td>\n",
       "      <td>Kanada</td>\n",
       "      <td>500+</td>\n",
       "      <td>NaN</td>\n",
       "    </tr>\n",
       "    <tr>\n",
       "      <th>2</th>\n",
       "      <td>3.0</td>\n",
       "      <td>Aspiring Human Resources Professional</td>\n",
       "      <td>Raleigh-Durham, North Carolina Area</td>\n",
       "      <td>44.0</td>\n",
       "      <td>NaN</td>\n",
       "    </tr>\n",
       "    <tr>\n",
       "      <th>3</th>\n",
       "      <td>4.0</td>\n",
       "      <td>People Development Coordinator at Ryan</td>\n",
       "      <td>Denton, Texas</td>\n",
       "      <td>500+</td>\n",
       "      <td>NaN</td>\n",
       "    </tr>\n",
       "    <tr>\n",
       "      <th>4</th>\n",
       "      <td>5.0</td>\n",
       "      <td>Advisory Board Member at Celal Bayar University</td>\n",
       "      <td>İzmir, Türkiye</td>\n",
       "      <td>500+</td>\n",
       "      <td>NaN</td>\n",
       "    </tr>\n",
       "  </tbody>\n",
       "</table>\n",
       "</div>"
      ],
      "text/plain": [
       "    id                                          job_title  \\\n",
       "0  1.0  2019 C.T. Bauer College of Business Graduate (...   \n",
       "1  2.0  Native English Teacher at EPIK (English Progra...   \n",
       "2  3.0              Aspiring Human Resources Professional   \n",
       "3  4.0             People Development Coordinator at Ryan   \n",
       "4  5.0    Advisory Board Member at Celal Bayar University   \n",
       "\n",
       "                              location connection  fit  \n",
       "0                       Houston, Texas       85.0  NaN  \n",
       "1                               Kanada      500+   NaN  \n",
       "2  Raleigh-Durham, North Carolina Area       44.0  NaN  \n",
       "3                        Denton, Texas      500+   NaN  \n",
       "4                       İzmir, Türkiye      500+   NaN  "
      ]
     },
     "execution_count": 6,
     "metadata": {},
     "output_type": "execute_result"
    }
   ],
   "source": [
    "# Part 1: Exploratory Analysis of data \n",
    "\n",
    "# Loading and Reading the dataset. Head of Data displayed in out display.\n",
    "\n",
    "# https://docs.google.com/spreadsheets/d/1wG2uPhDLVFbkhh5yB2w0Y3jcb6rzsoiCrQmzGb3m-sc/edit#gid=917237722\n",
    "\n",
    "# sheet_id = '1wG2uPhDLVFbkhh5yB2w0Y3jcb6rzsoiCrQmzGb3m-sc'\n",
    "\n",
    "df = '1wG2uPhDLVFbkhh5yB2w0Y3jcb6rzsoiCrQmzGb3m-sc'\n",
    "\n",
    "xls = pd.ExcelFile(f\"https://docs.google.com/spreadsheets/d/{df}/export?format=xlsx\")\n",
    "\n",
    "df = pd.read_excel(xls, 'Aspiring seeking human resource', header = 0)\n",
    "\n",
    "df.head()"
   ]
  },
  {
   "cell_type": "code",
   "execution_count": 7,
   "id": "ff6d9766",
   "metadata": {},
   "outputs": [
    {
     "name": "stdout",
     "output_type": "stream",
     "text": [
      "<class 'pandas.core.frame.DataFrame'>\n",
      "RangeIndex: 104 entries, 0 to 103\n",
      "Data columns (total 5 columns):\n",
      " #   Column      Non-Null Count  Dtype  \n",
      "---  ------      --------------  -----  \n",
      " 0   id          104 non-null    float64\n",
      " 1   job_title   104 non-null    object \n",
      " 2   location    104 non-null    object \n",
      " 3   connection  104 non-null    object \n",
      " 4   fit         0 non-null      float64\n",
      "dtypes: float64(2), object(3)\n",
      "memory usage: 4.2+ KB\n"
     ]
    }
   ],
   "source": [
    "df.info()"
   ]
  },
  {
   "cell_type": "code",
   "execution_count": 8,
   "id": "5b345719",
   "metadata": {},
   "outputs": [],
   "source": [
    "df.replace({'Ä°zmir, TÃ¼rkiye': 'İzmir, Türkiye', 'Kanada' : 'Canada', '500+ ':'500'}, inplace=True) "
   ]
  },
  {
   "cell_type": "code",
   "execution_count": 9,
   "id": "6542ec13",
   "metadata": {},
   "outputs": [],
   "source": [
    "#change the data type of 'connection' column to 'int64'\n",
    "df['connection'] = df['connection'].astype('int64')"
   ]
  },
  {
   "cell_type": "code",
   "execution_count": 10,
   "id": "5f3ee5de",
   "metadata": {},
   "outputs": [
    {
     "data": {
      "text/html": [
       "<div>\n",
       "<style scoped>\n",
       "    .dataframe tbody tr th:only-of-type {\n",
       "        vertical-align: middle;\n",
       "    }\n",
       "\n",
       "    .dataframe tbody tr th {\n",
       "        vertical-align: top;\n",
       "    }\n",
       "\n",
       "    .dataframe thead th {\n",
       "        text-align: right;\n",
       "    }\n",
       "</style>\n",
       "<table border=\"1\" class=\"dataframe\">\n",
       "  <thead>\n",
       "    <tr style=\"text-align: right;\">\n",
       "      <th></th>\n",
       "      <th>id</th>\n",
       "      <th>job_title</th>\n",
       "      <th>location</th>\n",
       "      <th>connection</th>\n",
       "      <th>fit</th>\n",
       "    </tr>\n",
       "  </thead>\n",
       "  <tbody>\n",
       "    <tr>\n",
       "      <th>0</th>\n",
       "      <td>1.0</td>\n",
       "      <td>2019 C.T. Bauer College of Business Graduate (...</td>\n",
       "      <td>Houston, Texas</td>\n",
       "      <td>85</td>\n",
       "      <td>NaN</td>\n",
       "    </tr>\n",
       "    <tr>\n",
       "      <th>1</th>\n",
       "      <td>2.0</td>\n",
       "      <td>Native English Teacher at EPIK (English Progra...</td>\n",
       "      <td>Canada</td>\n",
       "      <td>500</td>\n",
       "      <td>NaN</td>\n",
       "    </tr>\n",
       "    <tr>\n",
       "      <th>2</th>\n",
       "      <td>3.0</td>\n",
       "      <td>Aspiring Human Resources Professional</td>\n",
       "      <td>Raleigh-Durham, North Carolina Area</td>\n",
       "      <td>44</td>\n",
       "      <td>NaN</td>\n",
       "    </tr>\n",
       "    <tr>\n",
       "      <th>3</th>\n",
       "      <td>4.0</td>\n",
       "      <td>People Development Coordinator at Ryan</td>\n",
       "      <td>Denton, Texas</td>\n",
       "      <td>500</td>\n",
       "      <td>NaN</td>\n",
       "    </tr>\n",
       "    <tr>\n",
       "      <th>4</th>\n",
       "      <td>5.0</td>\n",
       "      <td>Advisory Board Member at Celal Bayar University</td>\n",
       "      <td>İzmir, Türkiye</td>\n",
       "      <td>500</td>\n",
       "      <td>NaN</td>\n",
       "    </tr>\n",
       "  </tbody>\n",
       "</table>\n",
       "</div>"
      ],
      "text/plain": [
       "    id                                          job_title  \\\n",
       "0  1.0  2019 C.T. Bauer College of Business Graduate (...   \n",
       "1  2.0  Native English Teacher at EPIK (English Progra...   \n",
       "2  3.0              Aspiring Human Resources Professional   \n",
       "3  4.0             People Development Coordinator at Ryan   \n",
       "4  5.0    Advisory Board Member at Celal Bayar University   \n",
       "\n",
       "                              location  connection  fit  \n",
       "0                       Houston, Texas          85  NaN  \n",
       "1                               Canada         500  NaN  \n",
       "2  Raleigh-Durham, North Carolina Area          44  NaN  \n",
       "3                        Denton, Texas         500  NaN  \n",
       "4                       İzmir, Türkiye         500  NaN  "
      ]
     },
     "execution_count": 10,
     "metadata": {},
     "output_type": "execute_result"
    }
   ],
   "source": [
    "df.head()"
   ]
  },
  {
   "cell_type": "code",
   "execution_count": 11,
   "id": "a1b320ff",
   "metadata": {},
   "outputs": [
    {
     "name": "stdout",
     "output_type": "stream",
     "text": [
      "<class 'pandas.core.frame.DataFrame'>\n",
      "RangeIndex: 104 entries, 0 to 103\n",
      "Data columns (total 5 columns):\n",
      " #   Column      Non-Null Count  Dtype  \n",
      "---  ------      --------------  -----  \n",
      " 0   id          104 non-null    float64\n",
      " 1   job_title   104 non-null    object \n",
      " 2   location    104 non-null    object \n",
      " 3   connection  104 non-null    int64  \n",
      " 4   fit         0 non-null      float64\n",
      "dtypes: float64(2), int64(1), object(2)\n",
      "memory usage: 4.2+ KB\n"
     ]
    }
   ],
   "source": [
    "df.info()"
   ]
  },
  {
   "cell_type": "code",
   "execution_count": 12,
   "id": "e8f461c0",
   "metadata": {},
   "outputs": [
    {
     "data": {
      "text/plain": [
       "(104, 5)"
      ]
     },
     "execution_count": 12,
     "metadata": {},
     "output_type": "execute_result"
    }
   ],
   "source": [
    "df.shape"
   ]
  },
  {
   "cell_type": "code",
   "execution_count": 13,
   "id": "45ad2f5f",
   "metadata": {},
   "outputs": [
    {
     "data": {
      "text/plain": [
       "'Advisory Board Member at Celal Bayar University'"
      ]
     },
     "execution_count": 13,
     "metadata": {},
     "output_type": "execute_result"
    }
   ],
   "source": [
    "df.job_title[4]"
   ]
  },
  {
   "cell_type": "code",
   "execution_count": 14,
   "id": "6f3b83b0",
   "metadata": {},
   "outputs": [
    {
     "data": {
      "text/plain": [
       "0      [bauer, college, of, business, graduate, magna...\n",
       "1      [native, english, teacher, at, epik, english, ...\n",
       "2             [aspiring, human, resources, professional]\n",
       "3           [people, development, coordinator, at, ryan]\n",
       "4      [advisory, board, member, at, celal, bayar, un...\n",
       "                             ...                        \n",
       "99     [aspiring, human, resources, manager, graduati...\n",
       "100          [human, resources, generalist, at, loparex]\n",
       "101    [business, intelligence, and, analytics, at, t...\n",
       "102                [always, set, them, up, for, success]\n",
       "103    [director, of, administration, at, excellence,...\n",
       "Name: job_title, Length: 104, dtype: object"
      ]
     },
     "execution_count": 14,
     "metadata": {},
     "output_type": "execute_result"
    }
   ],
   "source": [
    "#1 preprocess job_title column only\n",
    "from nltk.corpus import stopwords\n",
    "job_titl = df.job_title.apply(gensim.utils.simple_preprocess)\n",
    "job_titl"
   ]
  },
  {
   "cell_type": "code",
   "execution_count": 15,
   "id": "69b4e529",
   "metadata": {},
   "outputs": [
    {
     "data": {
      "text/plain": [
       "['i', 'me', 'my', 'myself', 'we', 'our', 'ours', 'ourselves', 'you', \"you're\"]"
      ]
     },
     "execution_count": 15,
     "metadata": {},
     "output_type": "execute_result"
    }
   ],
   "source": [
    "stopwords = nltk.corpus.stopwords.words('english')\n",
    "stopwords[:10]  #check the first 10 stop words"
   ]
  },
  {
   "cell_type": "code",
   "execution_count": 16,
   "id": "6b43c6e5",
   "metadata": {},
   "outputs": [],
   "source": [
    "#2 define function to remove stop words from each of the job descriptions\n",
    "def remove_stopwords (tokenized_text):\n",
    "    cleaned_text = [word for word in tokenized_text if word not in stopwords]\n",
    "    return cleaned_text"
   ]
  },
  {
   "cell_type": "code",
   "execution_count": 17,
   "id": "d879ad29",
   "metadata": {},
   "outputs": [
    {
     "data": {
      "text/plain": [
       "0      [bauer, college, business, graduate, magna, cu...\n",
       "1      [native, english, teacher, epik, english, prog...\n",
       "2             [aspiring, human, resources, professional]\n",
       "3               [people, development, coordinator, ryan]\n",
       "4      [advisory, board, member, celal, bayar, univer...\n",
       "                             ...                        \n",
       "99     [aspiring, human, resources, manager, graduati...\n",
       "100              [human, resources, generalist, loparex]\n",
       "101       [business, intelligence, analytics, travelers]\n",
       "102                               [always, set, success]\n",
       "103      [director, administration, excellence, logging]\n",
       "Name: job_title, Length: 104, dtype: object"
      ]
     },
     "execution_count": 17,
     "metadata": {},
     "output_type": "execute_result"
    }
   ],
   "source": [
    "#3 remove stopwords from each job description\n",
    "for ind, job in enumerate(job_titl):\n",
    "    job_titl[ind] = remove_stopwords(job_titl[ind])  \n",
    "\n",
    "job_titl"
   ]
  },
  {
   "cell_type": "code",
   "execution_count": 18,
   "id": "6699c0e6",
   "metadata": {},
   "outputs": [
    {
     "data": {
      "text/plain": [
       "0                              [houston, texas]\n",
       "1                                      [canada]\n",
       "2      [raleigh, durham, north, carolina, area]\n",
       "3                               [denton, texas]\n",
       "4                               [zmir, türkiye]\n",
       "                         ...                   \n",
       "99                  [cape, girardeau, missouri]\n",
       "100    [raleigh, durham, north, carolina, area]\n",
       "101            [greater, new, york, city, area]\n",
       "102               [greater, los, angeles, area]\n",
       "103                               [katy, texas]\n",
       "Name: location, Length: 104, dtype: object"
      ]
     },
     "execution_count": 18,
     "metadata": {},
     "output_type": "execute_result"
    }
   ],
   "source": [
    "# 4preprocess and remove stopwords for location column\n",
    "location_name = df.location.apply(gensim.utils.simple_preprocess)\n",
    "\n",
    "for ind, location in enumerate(location_name):\n",
    "    location_name[ind] = remove_stopwords(location_name[ind])  \n",
    "location_name"
   ]
  },
  {
   "cell_type": "code",
   "execution_count": 19,
   "id": "5d51bb4d",
   "metadata": {},
   "outputs": [
    {
     "data": {
      "text/plain": [
       "0      [bauer, college, business, graduate, magna, cu...\n",
       "1      [native, english, teacher, epik, english, prog...\n",
       "2             [aspiring, human, resources, professional]\n",
       "3               [people, development, coordinator, ryan]\n",
       "4      [advisory, board, member, celal, bayar, univer...\n",
       "                             ...                        \n",
       "99                           [cape, girardeau, missouri]\n",
       "100             [raleigh, durham, north, carolina, area]\n",
       "101                     [greater, new, york, city, area]\n",
       "102                        [greater, los, angeles, area]\n",
       "103                                        [katy, texas]\n",
       "Length: 208, dtype: object"
      ]
     },
     "execution_count": 19,
     "metadata": {},
     "output_type": "execute_result"
    }
   ],
   "source": [
    "#5 \n",
    "job_location_combined = job_titl.append(location_name)\n",
    "job_location_combined"
   ]
  },
  {
   "cell_type": "code",
   "execution_count": 20,
   "id": "c81d0ed1",
   "metadata": {},
   "outputs": [
    {
     "data": {
      "text/plain": [
       "12"
      ]
     },
     "execution_count": 20,
     "metadata": {},
     "output_type": "execute_result"
    }
   ],
   "source": [
    "cpu_count()"
   ]
  },
  {
   "cell_type": "code",
   "execution_count": 21,
   "id": "d55beb56",
   "metadata": {},
   "outputs": [],
   "source": [
    "# now we initialize a gensim model\n",
    "# window is how many words before and after the target word. Can be anything 5, 7 etc\n",
    "# min_count is the min length of a sentense. So don't use sentences with only 1 word\n",
    "# workers how many CPU threads to be used?? (so CPUs with 4 cores, use 4, my Lenovo laptop has 2 cores but supposedly\n",
    "# can handle upto 4 threads in parallel.. whatever that means) \n",
    "\n",
    "model = gensim.models.Word2Vec(window = 5, min_count = 2, workers = 12)  # cpu_count for this laptop is 4"
   ]
  },
  {
   "cell_type": "code",
   "execution_count": 22,
   "id": "6d600459",
   "metadata": {},
   "outputs": [],
   "source": [
    "model.build_vocab(job_location_combined)"
   ]
  },
  {
   "cell_type": "code",
   "execution_count": 23,
   "id": "60a0b52d",
   "metadata": {},
   "outputs": [
    {
     "data": {
      "text/plain": [
       "(208, 5)"
      ]
     },
     "execution_count": 23,
     "metadata": {},
     "output_type": "execute_result"
    }
   ],
   "source": [
    "model.corpus_count, model.epochs"
   ]
  },
  {
   "cell_type": "code",
   "execution_count": 24,
   "id": "b4e7468d",
   "metadata": {},
   "outputs": [
    {
     "data": {
      "text/plain": [
       "(1523, 4695)"
      ]
     },
     "execution_count": 24,
     "metadata": {},
     "output_type": "execute_result"
    }
   ],
   "source": [
    "model.train(job_location_combined, total_examples = model.corpus_count, epochs = model.epochs)"
   ]
  },
  {
   "cell_type": "code",
   "execution_count": 25,
   "id": "37336955",
   "metadata": {},
   "outputs": [
    {
     "data": {
      "text/plain": [
       "['aspiring', 'seeking', 'human', 'resources']"
      ]
     },
     "execution_count": 25,
     "metadata": {},
     "output_type": "execute_result"
    }
   ],
   "source": [
    "key_words = remove_stopwords(gensim.utils.simple_preprocess('Aspiring seeking human resources'))\n",
    "key_words"
   ]
  },
  {
   "cell_type": "code",
   "execution_count": 26,
   "id": "d625b962",
   "metadata": {},
   "outputs": [],
   "source": [
    "#define function to compute cosine similarity between two lists of words that are not individual\n",
    "def word_set_similarity (test_set, reference):\n",
    "    return model.wv.n_similarity (test_set, reference)"
   ]
  },
  {
   "cell_type": "code",
   "execution_count": 27,
   "id": "c10a92fd",
   "metadata": {
    "scrolled": true
   },
   "outputs": [
    {
     "data": {
      "text/plain": [
       "0.7476511"
      ]
     },
     "execution_count": 27,
     "metadata": {},
     "output_type": "execute_result"
    }
   ],
   "source": [
    "score = word_set_similarity(job_titl[5], key_words)\n",
    "score"
   ]
  },
  {
   "cell_type": "code",
   "execution_count": 28,
   "id": "b3c9cbe5",
   "metadata": {},
   "outputs": [],
   "source": [
    "def rem_stopwrds_preprocess(sentence):\n",
    "    return remove_stopwords(gensim.utils.simple_preprocess(sentence))"
   ]
  },
  {
   "cell_type": "code",
   "execution_count": 29,
   "id": "83a12878",
   "metadata": {},
   "outputs": [
    {
     "data": {
      "text/html": [
       "<div>\n",
       "<style scoped>\n",
       "    .dataframe tbody tr th:only-of-type {\n",
       "        vertical-align: middle;\n",
       "    }\n",
       "\n",
       "    .dataframe tbody tr th {\n",
       "        vertical-align: top;\n",
       "    }\n",
       "\n",
       "    .dataframe thead th {\n",
       "        text-align: right;\n",
       "    }\n",
       "</style>\n",
       "<table border=\"1\" class=\"dataframe\">\n",
       "  <thead>\n",
       "    <tr style=\"text-align: right;\">\n",
       "      <th></th>\n",
       "      <th>id</th>\n",
       "      <th>job_title</th>\n",
       "      <th>location</th>\n",
       "      <th>connection</th>\n",
       "      <th>job_fit</th>\n",
       "    </tr>\n",
       "  </thead>\n",
       "  <tbody>\n",
       "    <tr>\n",
       "      <th>0</th>\n",
       "      <td>73.0</td>\n",
       "      <td>Aspiring Human Resources Manager, seeking inte...</td>\n",
       "      <td>Houston, Texas Area</td>\n",
       "      <td>7</td>\n",
       "      <td>0.885104</td>\n",
       "    </tr>\n",
       "    <tr>\n",
       "      <th>1</th>\n",
       "      <td>100.0</td>\n",
       "      <td>Aspiring Human Resources Manager | Graduating ...</td>\n",
       "      <td>Cape Girardeau, Missouri</td>\n",
       "      <td>103</td>\n",
       "      <td>0.859920</td>\n",
       "    </tr>\n",
       "    <tr>\n",
       "      <th>2</th>\n",
       "      <td>27.0</td>\n",
       "      <td>Aspiring Human Resources Management student se...</td>\n",
       "      <td>Houston, Texas Area</td>\n",
       "      <td>500</td>\n",
       "      <td>0.793262</td>\n",
       "    </tr>\n",
       "    <tr>\n",
       "      <th>3</th>\n",
       "      <td>29.0</td>\n",
       "      <td>Aspiring Human Resources Management student se...</td>\n",
       "      <td>Houston, Texas Area</td>\n",
       "      <td>500</td>\n",
       "      <td>0.793262</td>\n",
       "    </tr>\n",
       "    <tr>\n",
       "      <th>4</th>\n",
       "      <td>28.0</td>\n",
       "      <td>Seeking Human Resources Opportunities</td>\n",
       "      <td>Chicago, Illinois</td>\n",
       "      <td>390</td>\n",
       "      <td>0.773973</td>\n",
       "    </tr>\n",
       "    <tr>\n",
       "      <th>...</th>\n",
       "      <td>...</td>\n",
       "      <td>...</td>\n",
       "      <td>...</td>\n",
       "      <td>...</td>\n",
       "      <td>...</td>\n",
       "    </tr>\n",
       "    <tr>\n",
       "      <th>77</th>\n",
       "      <td>11.0</td>\n",
       "      <td>Student at Chapman University</td>\n",
       "      <td>Lake Forest, California</td>\n",
       "      <td>2</td>\n",
       "      <td>0.071705</td>\n",
       "    </tr>\n",
       "    <tr>\n",
       "      <th>78</th>\n",
       "      <td>54.0</td>\n",
       "      <td>Student at Chapman University</td>\n",
       "      <td>Lake Forest, California</td>\n",
       "      <td>2</td>\n",
       "      <td>0.071705</td>\n",
       "    </tr>\n",
       "    <tr>\n",
       "      <th>79</th>\n",
       "      <td>63.0</td>\n",
       "      <td>Student at Chapman University</td>\n",
       "      <td>Lake Forest, California</td>\n",
       "      <td>2</td>\n",
       "      <td>0.071705</td>\n",
       "    </tr>\n",
       "    <tr>\n",
       "      <th>80</th>\n",
       "      <td>102.0</td>\n",
       "      <td>Business Intelligence and Analytics at Travelers</td>\n",
       "      <td>Greater New York City Area</td>\n",
       "      <td>49</td>\n",
       "      <td>0.042597</td>\n",
       "    </tr>\n",
       "    <tr>\n",
       "      <th>81</th>\n",
       "      <td>91.0</td>\n",
       "      <td>Lead Official at Western Illinois University</td>\n",
       "      <td>Greater Chicago Area</td>\n",
       "      <td>39</td>\n",
       "      <td>0.017590</td>\n",
       "    </tr>\n",
       "  </tbody>\n",
       "</table>\n",
       "<p>82 rows × 5 columns</p>\n",
       "</div>"
      ],
      "text/plain": [
       "       id                                          job_title  \\\n",
       "0    73.0  Aspiring Human Resources Manager, seeking inte...   \n",
       "1   100.0  Aspiring Human Resources Manager | Graduating ...   \n",
       "2    27.0  Aspiring Human Resources Management student se...   \n",
       "3    29.0  Aspiring Human Resources Management student se...   \n",
       "4    28.0              Seeking Human Resources Opportunities   \n",
       "..    ...                                                ...   \n",
       "77   11.0                      Student at Chapman University   \n",
       "78   54.0                      Student at Chapman University   \n",
       "79   63.0                      Student at Chapman University   \n",
       "80  102.0   Business Intelligence and Analytics at Travelers   \n",
       "81   91.0       Lead Official at Western Illinois University   \n",
       "\n",
       "                      location  connection   job_fit  \n",
       "0          Houston, Texas Area           7  0.885104  \n",
       "1     Cape Girardeau, Missouri         103  0.859920  \n",
       "2          Houston, Texas Area         500  0.793262  \n",
       "3          Houston, Texas Area         500  0.793262  \n",
       "4            Chicago, Illinois         390  0.773973  \n",
       "..                         ...         ...       ...  \n",
       "77     Lake Forest, California           2  0.071705  \n",
       "78     Lake Forest, California           2  0.071705  \n",
       "79     Lake Forest, California           2  0.071705  \n",
       "80  Greater New York City Area          49  0.042597  \n",
       "81        Greater Chicago Area          39  0.017590  \n",
       "\n",
       "[82 rows x 5 columns]"
      ]
     },
     "execution_count": 29,
     "metadata": {},
     "output_type": "execute_result"
    }
   ],
   "source": [
    "key_words = rem_stopwrds_preprocess('Aspiring seeking human resources') # enter 'seeking human resources' or  'Aspiring human resources'\n",
    "\n",
    "# each candidate job description is compared with key words using the function to calculate cosine similarity\n",
    "df['fit'] = df['job_title'].apply(lambda x: word_set_similarity(rem_stopwrds_preprocess(x), key_words))\n",
    "candidates_1 = df.sort_values('fit', ignore_index=True, ascending=False)\n",
    "candidates_1.rename(columns={'fit':'job_fit'}, inplace=True)\n",
    "candidates_1 = candidates_1[candidates_1['job_fit']>0]\n",
    "\n",
    "candidates_1"
   ]
  },
  {
   "cell_type": "code",
   "execution_count": 30,
   "id": "9c25f09a",
   "metadata": {},
   "outputs": [
    {
     "data": {
      "text/plain": [
       "['greater', 'new', 'york', 'city', 'area']"
      ]
     },
     "execution_count": 30,
     "metadata": {},
     "output_type": "execute_result"
    }
   ],
   "source": [
    "rem_stopwrds_preprocess(df[df.id==102].iloc[0]['location'])"
   ]
  },
  {
   "cell_type": "code",
   "execution_count": 31,
   "id": "1a85aa54",
   "metadata": {},
   "outputs": [],
   "source": [
    " # following function takes the id number of the preferred candidate from the first round and uses that candidate's\n",
    "# location to rerank the candidates based on the job_title AND location. For the ranking, job title is given the highest weight,\n",
    "# followed by candidate location followed by the candidate's number of LinkedIn connections\n",
    "\n",
    "def rerank (id_num, input_df):\n",
    "    '''\n",
    "    input: id_num - id number of the preferred candidate from the first round of screening\n",
    "    input: input_df - this is the df where the data from the first sceening round is stored\n",
    "    \n",
    "    output: df containing the new columns where job and location similarity values, a score for the number of\n",
    "            connections as well as a column for the average of the weighted scores.\n",
    "    '''\n",
    "    # remove the previously created columns in the input df since they will be calculated again in this function\n",
    "    df = input_df.iloc[:, :4]\n",
    "    \n",
    "    #preferred candidate job_title embedding\n",
    "    cand_job_preprocess = rem_stopwrds_preprocess (df[df.id==id_num].iloc[0]['job_title'])\n",
    "    #preferred candidate location embedding\n",
    "    cand_loc_preprocess = rem_stopwrds_preprocess (df[df.id==id_num].iloc[0]['location'])\n",
    "    \n",
    "    # calculate cosine similarities of the job fit for each candidate based on the job description of the preferred candidate\n",
    "    df['job_fit'] = df['job_title'].apply(lambda x: word_set_similarity(rem_stopwrds_preprocess(x), cand_job_preprocess))\n",
    "    # calculate cosine similarities of the location fit for each candidate based on the job description of the preferred candidate\n",
    "    df['location_fit'] = df['location'].apply(lambda x: word_set_similarity(rem_stopwrds_preprocess(x), cand_loc_preprocess))\n",
    "    \n",
    "    # create a column for connection count and then normalize to the maximum value in the column\n",
    "    df['connection_score'] = df['connection'].apply(lambda x: x/df['connection'].max()) \n",
    "\n",
    "    #calculate the mean for the job_fit and location_fit and conection_score values\n",
    "    # BUT give the job_fit more weigt (*3) followed by the location_fit (*2) and then connection_score(*0.5)\n",
    "    df['job_loc_connection_fit'] = (df['job_fit']*3+df['location_fit']*2+df['connection_score']*0.5)/3\n",
    "    \n",
    "    #sort the df based on the mean of weighted scores \n",
    "    df = df.sort_values('job_loc_connection_fit', ignore_index = True, ascending=False)\n",
    "    \n",
    "    return df"
   ]
  },
  {
   "cell_type": "code",
   "execution_count": 32,
   "id": "274c43b3",
   "metadata": {},
   "outputs": [
    {
     "data": {
      "text/html": [
       "<div>\n",
       "<style scoped>\n",
       "    .dataframe tbody tr th:only-of-type {\n",
       "        vertical-align: middle;\n",
       "    }\n",
       "\n",
       "    .dataframe tbody tr th {\n",
       "        vertical-align: top;\n",
       "    }\n",
       "\n",
       "    .dataframe thead th {\n",
       "        text-align: right;\n",
       "    }\n",
       "</style>\n",
       "<table border=\"1\" class=\"dataframe\">\n",
       "  <thead>\n",
       "    <tr style=\"text-align: right;\">\n",
       "      <th></th>\n",
       "      <th>id</th>\n",
       "      <th>job_title</th>\n",
       "      <th>location</th>\n",
       "      <th>connection</th>\n",
       "      <th>job_fit</th>\n",
       "      <th>location_fit</th>\n",
       "      <th>connection_score</th>\n",
       "      <th>job_loc_connection_fit</th>\n",
       "    </tr>\n",
       "  </thead>\n",
       "  <tbody>\n",
       "    <tr>\n",
       "      <th>0</th>\n",
       "      <td>53.0</td>\n",
       "      <td>Seeking Human Resources HRIS and Generalist Po...</td>\n",
       "      <td>Greater Philadelphia Area</td>\n",
       "      <td>500</td>\n",
       "      <td>1.000000</td>\n",
       "      <td>1.000000</td>\n",
       "      <td>1.000</td>\n",
       "      <td>1.833333</td>\n",
       "    </tr>\n",
       "    <tr>\n",
       "      <th>1</th>\n",
       "      <td>62.0</td>\n",
       "      <td>Seeking Human Resources HRIS and Generalist Po...</td>\n",
       "      <td>Greater Philadelphia Area</td>\n",
       "      <td>500</td>\n",
       "      <td>1.000000</td>\n",
       "      <td>1.000000</td>\n",
       "      <td>1.000</td>\n",
       "      <td>1.833333</td>\n",
       "    </tr>\n",
       "    <tr>\n",
       "      <th>2</th>\n",
       "      <td>10.0</td>\n",
       "      <td>Seeking Human Resources HRIS and Generalist Po...</td>\n",
       "      <td>Greater Philadelphia Area</td>\n",
       "      <td>500</td>\n",
       "      <td>1.000000</td>\n",
       "      <td>1.000000</td>\n",
       "      <td>1.000</td>\n",
       "      <td>1.833333</td>\n",
       "    </tr>\n",
       "    <tr>\n",
       "      <th>3</th>\n",
       "      <td>40.0</td>\n",
       "      <td>Seeking Human Resources HRIS and Generalist Po...</td>\n",
       "      <td>Greater Philadelphia Area</td>\n",
       "      <td>500</td>\n",
       "      <td>1.000000</td>\n",
       "      <td>1.000000</td>\n",
       "      <td>1.000</td>\n",
       "      <td>1.833333</td>\n",
       "    </tr>\n",
       "    <tr>\n",
       "      <th>4</th>\n",
       "      <td>69.0</td>\n",
       "      <td>Director of Human Resources North America, Gro...</td>\n",
       "      <td>Greater Grand Rapids, Michigan Area</td>\n",
       "      <td>500</td>\n",
       "      <td>0.391234</td>\n",
       "      <td>0.817515</td>\n",
       "      <td>1.000</td>\n",
       "      <td>1.102910</td>\n",
       "    </tr>\n",
       "    <tr>\n",
       "      <th>5</th>\n",
       "      <td>74.0</td>\n",
       "      <td>Human Resources Professional</td>\n",
       "      <td>Greater Boston Area</td>\n",
       "      <td>16</td>\n",
       "      <td>0.516438</td>\n",
       "      <td>0.817515</td>\n",
       "      <td>0.032</td>\n",
       "      <td>1.066781</td>\n",
       "    </tr>\n",
       "    <tr>\n",
       "      <th>6</th>\n",
       "      <td>89.0</td>\n",
       "      <td>Director Human Resources  at EY</td>\n",
       "      <td>Greater Atlanta Area</td>\n",
       "      <td>349</td>\n",
       "      <td>0.434369</td>\n",
       "      <td>0.718418</td>\n",
       "      <td>0.698</td>\n",
       "      <td>1.029648</td>\n",
       "    </tr>\n",
       "    <tr>\n",
       "      <th>7</th>\n",
       "      <td>99.0</td>\n",
       "      <td>Seeking Human Resources Position</td>\n",
       "      <td>Las Vegas, Nevada Area</td>\n",
       "      <td>48</td>\n",
       "      <td>0.603871</td>\n",
       "      <td>0.583191</td>\n",
       "      <td>0.096</td>\n",
       "      <td>1.008665</td>\n",
       "    </tr>\n",
       "    <tr>\n",
       "      <th>8</th>\n",
       "      <td>68.0</td>\n",
       "      <td>Human Resources Specialist at Luxottica</td>\n",
       "      <td>Greater New York City Area</td>\n",
       "      <td>500</td>\n",
       "      <td>0.511840</td>\n",
       "      <td>0.482865</td>\n",
       "      <td>1.000</td>\n",
       "      <td>1.000417</td>\n",
       "    </tr>\n",
       "    <tr>\n",
       "      <th>9</th>\n",
       "      <td>27.0</td>\n",
       "      <td>Aspiring Human Resources Management student se...</td>\n",
       "      <td>Houston, Texas Area</td>\n",
       "      <td>500</td>\n",
       "      <td>0.552762</td>\n",
       "      <td>0.411324</td>\n",
       "      <td>1.000</td>\n",
       "      <td>0.993644</td>\n",
       "    </tr>\n",
       "  </tbody>\n",
       "</table>\n",
       "</div>"
      ],
      "text/plain": [
       "     id                                          job_title  \\\n",
       "0  53.0  Seeking Human Resources HRIS and Generalist Po...   \n",
       "1  62.0  Seeking Human Resources HRIS and Generalist Po...   \n",
       "2  10.0  Seeking Human Resources HRIS and Generalist Po...   \n",
       "3  40.0  Seeking Human Resources HRIS and Generalist Po...   \n",
       "4  69.0  Director of Human Resources North America, Gro...   \n",
       "5  74.0                       Human Resources Professional   \n",
       "6  89.0                    Director Human Resources  at EY   \n",
       "7  99.0                   Seeking Human Resources Position   \n",
       "8  68.0            Human Resources Specialist at Luxottica   \n",
       "9  27.0  Aspiring Human Resources Management student se...   \n",
       "\n",
       "                              location  connection   job_fit  location_fit  \\\n",
       "0            Greater Philadelphia Area         500  1.000000      1.000000   \n",
       "1            Greater Philadelphia Area         500  1.000000      1.000000   \n",
       "2            Greater Philadelphia Area         500  1.000000      1.000000   \n",
       "3            Greater Philadelphia Area         500  1.000000      1.000000   \n",
       "4  Greater Grand Rapids, Michigan Area         500  0.391234      0.817515   \n",
       "5                  Greater Boston Area          16  0.516438      0.817515   \n",
       "6                 Greater Atlanta Area         349  0.434369      0.718418   \n",
       "7               Las Vegas, Nevada Area          48  0.603871      0.583191   \n",
       "8           Greater New York City Area         500  0.511840      0.482865   \n",
       "9                  Houston, Texas Area         500  0.552762      0.411324   \n",
       "\n",
       "   connection_score  job_loc_connection_fit  \n",
       "0             1.000                1.833333  \n",
       "1             1.000                1.833333  \n",
       "2             1.000                1.833333  \n",
       "3             1.000                1.833333  \n",
       "4             1.000                1.102910  \n",
       "5             0.032                1.066781  \n",
       "6             0.698                1.029648  \n",
       "7             0.096                1.008665  \n",
       "8             1.000                1.000417  \n",
       "9             1.000                0.993644  "
      ]
     },
     "execution_count": 32,
     "metadata": {},
     "output_type": "execute_result"
    }
   ],
   "source": [
    "# rerank the list based on candidate id 53\n",
    "output_df = rerank(53, candidates_1)\n",
    "output_df.head(10)"
   ]
  },
  {
   "cell_type": "code",
   "execution_count": null,
   "id": "3b3cf0c6",
   "metadata": {},
   "outputs": [],
   "source": []
  }
 ],
 "metadata": {
  "kernelspec": {
   "display_name": "Python 3 (ipykernel)",
   "language": "python",
   "name": "python3"
  },
  "language_info": {
   "codemirror_mode": {
    "name": "ipython",
    "version": 3
   },
   "file_extension": ".py",
   "mimetype": "text/x-python",
   "name": "python",
   "nbconvert_exporter": "python",
   "pygments_lexer": "ipython3",
   "version": "3.9.7"
  }
 },
 "nbformat": 4,
 "nbformat_minor": 5
}
